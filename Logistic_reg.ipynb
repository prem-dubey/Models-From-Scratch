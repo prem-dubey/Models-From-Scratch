{
 "cells": [
  {
   "cell_type": "markdown",
   "id": "75b12991",
   "metadata": {},
   "source": [
    "# Implementing Logistic Regression From Scratch "
   ]
  },
  {
   "cell_type": "code",
   "execution_count": 6,
   "id": "7a24dac2",
   "metadata": {},
   "outputs": [
    {
     "name": "stderr",
     "output_type": "stream",
     "text": [
      "/var/folders/gh/01q9wrls05gc9n_xlqkhf6h40000gn/T/ipykernel_4043/2035525307.py:18: RuntimeWarning: overflow encountered in exp\n",
      "  return 1 / (1 + np.exp(-(np.dot(w, xi) + b)))\n"
     ]
    },
    {
     "name": "stdout",
     "output_type": "stream",
     "text": [
      "Misclassified examples: 47\n",
      "Accuracy: 91.73989455184535 %\n"
     ]
    },
    {
     "data": {
      "image/png": "[encoded data removed]",
      "text/plain": [
       "<Figure size 640x480 with 1 Axes>"
      ]
     },
     "metadata": {},
     "output_type": "display_data"
    },
    {
     "name": "stdout",
     "output_type": "stream",
     "text": [
      "[ 6.56492794e+00 -3.91730714e+00  2.91411099e+01  5.02373148e+00\n",
      " -5.54381952e-03 -2.98549337e-01 -4.96469922e-01 -1.94793820e-01\n",
      " -4.38825578e-03  1.63962544e-02  6.62448026e-02 -1.23523725e-01\n",
      " -1.21754706e+00 -1.27821212e+01 -5.66041231e-03 -7.94061048e-02\n",
      " -1.10979173e-01 -2.45464128e-02 -1.40707781e-02 -5.84037999e-03\n",
      "  6.97730788e+00 -1.02658905e+01  1.99314466e+01 -9.30557851e+00\n",
      " -5.26424825e-02 -1.07300340e+00 -1.42462109e+00 -3.64812177e-01\n",
      " -1.73183535e-01 -6.19254017e-02]\n"
     ]
    }
   ],
   "source": [
    "import numpy as np\n",
    "import matplotlib.pyplot as plt\n",
    "from sklearn import datasets\n",
    "\n",
    "# Load and preprocess data\n",
    "data = datasets.load_breast_cancer()\n",
    "x = data.data   # shape: (569, 30)\n",
    "y = data.target # shape: (569,)\n",
    "\n",
    "# Parameters\n",
    "w = np.zeros(30)\n",
    "w.fill(0)\n",
    "b = 0\n",
    "alpha = 0.01\n",
    "\n",
    "# Sigmoid function\n",
    "def sigmoid_calc(xi, w, b):\n",
    "    return 1 / (1 + np.exp(-(np.dot(w, xi) + b)))\n",
    "\n",
    "# Gradient with respect to weights\n",
    "def gradDesJw(x, y, w, b):\n",
    "    m = len(x)\n",
    "    Jw = np.zeros_like(w)\n",
    "    for i in range(m):\n",
    "        pred = sigmoid_calc(x[i], w, b)\n",
    "        Jw += (pred - y[i]) * x[i]\n",
    "    return Jw / m\n",
    "\n",
    "# Gradient with respect to bias\n",
    "def gradDesJb(x, y, w, b):\n",
    "    m = len(x)\n",
    "    Jb = 0\n",
    "    for i in range(m):\n",
    "        pred = sigmoid_calc(x[i], w, b)\n",
    "        Jb += (pred - y[i])\n",
    "    return Jb / m\n",
    "\n",
    "# Training\n",
    "t = 10000\n",
    "losses = []\n",
    "while t >= 0:\n",
    "    w_des = alpha * gradDesJw(x, y, w, b)\n",
    "    b_des = alpha * gradDesJb(x, y, w, b)\n",
    "    w -= w_des\n",
    "    b -= b_des\n",
    "    t -= 1\n",
    "\n",
    "# Predict\n",
    "y_pred = np.zeros(len(x))\n",
    "count = 0\n",
    "for i in range(len(x)):\n",
    "    prob = sigmoid_calc(x[i], w, b)\n",
    "    y_pred[i] = 1 if prob >= 0.5 else 0\n",
    "    if y_pred[i] != y[i]:\n",
    "        count += 1\n",
    "\n",
    "print(\"Misclassified examples:\", count)\n",
    "print(\"Accuracy:\", (1 - count / len(x)) * 100, \"%\")\n",
    "\n",
    "# Plot predictions\n",
    "plt.plot(y_pred,'o')\n",
    "plt.title(\"Predicted Labels\")\n",
    "plt.show()\n",
    "print(w)\n"
   ]
  },
  {
   "cell_type": "markdown",
   "id": "028b3730",
   "metadata": {},
   "source": [
    "# write whole code again with high performance "
   ]
  }
 ],
 "metadata": {
  "kernelspec": {
   "display_name": "Python 3",
   "language": "python",
   "name": "python3"
  },
  "language_info": {
   "codemirror_mode": {
    "name": "ipython",
    "version": 3
   },
   "file_extension": ".py",
   "mimetype": "text/x-python",
   "name": "python",
   "nbconvert_exporter": "python",
   "pygments_lexer": "ipython3",
   "version": "3.12.5"
  }
 },
 "nbformat": 4,
 "nbformat_minor": 5
}
